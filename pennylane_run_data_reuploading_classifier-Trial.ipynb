{
 "cells": [
  {
   "cell_type": "code",
   "execution_count": 1,
   "metadata": {},
   "outputs": [],
   "source": [
    "%matplotlib inline"
   ]
  },
  {
   "cell_type": "code",
   "execution_count": 2,
   "metadata": {},
   "outputs": [],
   "source": [
    "import pennylane as qml\n",
    "from pennylane import numpy as np\n",
    "from pennylane.optimize import AdamOptimizer, GradientDescentOptimizer\n",
    "import random\n",
    "import matplotlib.pyplot as plt\n",
    "from sklearn.model_selection import train_test_split\n",
    "import math\n",
    "from sklearn.preprocessing import MinMaxScaler\n",
    "scaler = MinMaxScaler()\n",
    "\n",
    "np.random.seed(42)\n",
    "\n",
    "\n",
    "def density_matrix(state):\n",
    "    return state * np.conj(state).T\n",
    "\n",
    "\n",
    "label_0 = [[1],[0],[0],[0],[0],[0],[0],[0],[0],[1],[0],[0],[0],[0],[0],[0]]\n",
    "label_1 = [[0],[1],[0],[0],[0],[0],[0],[0],[0],[0],[1],[0],[0],[0],[0],[0]]\n",
    "label_2 = [[0],[0],[1],[0],[0],[0],[0],[0],[0],[0],[0],[0],[0],[0],[0],[0]]\n",
    "label_3 = [[0],[0],[0],[1],[0],[0],[0],[0],[0],[0],[0],[0],[0],[0],[0],[0]]\n",
    "label_4 = [[0],[0],[0],[0],[1],[0],[0],[0],[0],[0],[0],[0],[0],[0],[0],[0]]\n",
    "label_5 = [[0],[0],[0],[0],[0],[1],[0],[0],[0],[0],[0],[0],[0],[0],[0],[0]]\n",
    "label_6 = [[0],[0],[0],[0],[0],[0],[1],[0],[0],[0],[0],[0],[0],[0],[0],[0]]\n",
    "label_7 = [[0],[0],[0],[0],[0],[0],[0],[1],[0],[0],[0],[0],[0],[0],[0],[0]]\n",
    "label_8 = [[0],[0],[0],[0],[0],[0],[0],[0],[1],[0],[0],[0],[0],[0],[0],[0]]\n",
    "\n",
    "state_labels = [label_0, label_1, label_2, label_3, label_4, label_5, label_6, label_7, label_8]"
   ]
  },
  {
   "cell_type": "code",
   "execution_count": 3,
   "metadata": {},
   "outputs": [
    {
     "data": {
      "text/plain": [
       "array([[0, 0, 0, 0, 0, 0, 0, 0, 0, 0, 0, 0, 0, 0, 0, 0],\n",
       "       [0, 1, 0, 0, 0, 0, 0, 0, 0, 0, 1, 0, 0, 0, 0, 0],\n",
       "       [0, 0, 0, 0, 0, 0, 0, 0, 0, 0, 0, 0, 0, 0, 0, 0],\n",
       "       [0, 0, 0, 0, 0, 0, 0, 0, 0, 0, 0, 0, 0, 0, 0, 0],\n",
       "       [0, 0, 0, 0, 0, 0, 0, 0, 0, 0, 0, 0, 0, 0, 0, 0],\n",
       "       [0, 0, 0, 0, 0, 0, 0, 0, 0, 0, 0, 0, 0, 0, 0, 0],\n",
       "       [0, 0, 0, 0, 0, 0, 0, 0, 0, 0, 0, 0, 0, 0, 0, 0],\n",
       "       [0, 0, 0, 0, 0, 0, 0, 0, 0, 0, 0, 0, 0, 0, 0, 0],\n",
       "       [0, 0, 0, 0, 0, 0, 0, 0, 0, 0, 0, 0, 0, 0, 0, 0],\n",
       "       [0, 0, 0, 0, 0, 0, 0, 0, 0, 0, 0, 0, 0, 0, 0, 0],\n",
       "       [0, 1, 0, 0, 0, 0, 0, 0, 0, 0, 1, 0, 0, 0, 0, 0],\n",
       "       [0, 0, 0, 0, 0, 0, 0, 0, 0, 0, 0, 0, 0, 0, 0, 0],\n",
       "       [0, 0, 0, 0, 0, 0, 0, 0, 0, 0, 0, 0, 0, 0, 0, 0],\n",
       "       [0, 0, 0, 0, 0, 0, 0, 0, 0, 0, 0, 0, 0, 0, 0, 0],\n",
       "       [0, 0, 0, 0, 0, 0, 0, 0, 0, 0, 0, 0, 0, 0, 0, 0],\n",
       "       [0, 0, 0, 0, 0, 0, 0, 0, 0, 0, 0, 0, 0, 0, 0, 0]])"
      ]
     },
     "execution_count": 3,
     "metadata": {},
     "output_type": "execute_result"
    }
   ],
   "source": [
    "density_matrix(state_labels[1])"
   ]
  },
  {
   "cell_type": "code",
   "execution_count": 4,
   "metadata": {},
   "outputs": [],
   "source": [
    "X_tra = []\n",
    "Y_ans = []\n",
    "with open('winequality-red.csv', 'r') as f:\n",
    "    x = f.readlines()\n",
    "x=x[1:]\n",
    "x\n",
    "for i in range(len(x)):\n",
    "    x[i] = x[i][:-1]\n",
    "    x[i] = x[i].split(';')\n",
    "    X_tra.append(x[i][:-1])\n",
    "    Y_ans.append(x[i][-1:])\n",
    "x\n",
    "ans = []\n",
    "for i in range(len(Y_ans)):\n",
    "    if(Y_ans[i]==min(Y_ans)):\n",
    "        Y_ans[i]=['0']\n",
    "    ans.append(Y_ans[i][0])\n",
    "for i in range(len(X_tra)):\n",
    "    ans[i]=int(ans[i])\n",
    "    for j in range(len(X_tra[i])):\n",
    "        X_tra[i][j]=float(X_tra[i][j])"
   ]
  },
  {
   "cell_type": "code",
   "execution_count": 5,
   "metadata": {},
   "outputs": [
    {
     "name": "stdout",
     "output_type": "stream",
     "text": [
      "MinMaxScaler(copy=True, feature_range=(0, 1))\n"
     ]
    }
   ],
   "source": [
    "print(scaler.fit(X_tra))"
   ]
  },
  {
   "cell_type": "code",
   "execution_count": 6,
   "metadata": {},
   "outputs": [],
   "source": [
    "X_tra = scaler.transform(X_tra)"
   ]
  },
  {
   "cell_type": "code",
   "execution_count": 7,
   "metadata": {},
   "outputs": [
    {
     "data": {
      "text/plain": [
       "array([[0.24778761, 0.39726027, 0.        , ..., 0.60629921, 0.13772455,\n",
       "        0.15384615],\n",
       "       [0.28318584, 0.52054795, 0.        , ..., 0.36220472, 0.20958084,\n",
       "        0.21538462],\n",
       "       [0.28318584, 0.43835616, 0.04      , ..., 0.40944882, 0.19161677,\n",
       "        0.21538462],\n",
       "       ...,\n",
       "       [0.15044248, 0.26712329, 0.13      , ..., 0.53543307, 0.25149701,\n",
       "        0.4       ],\n",
       "       [0.11504425, 0.35958904, 0.12      , ..., 0.65354331, 0.22754491,\n",
       "        0.27692308],\n",
       "       [0.12389381, 0.13013699, 0.47      , ..., 0.51181102, 0.19760479,\n",
       "        0.4       ]])"
      ]
     },
     "execution_count": 7,
     "metadata": {},
     "output_type": "execute_result"
    }
   ],
   "source": [
    "X_tra"
   ]
  },
  {
   "cell_type": "code",
   "execution_count": 8,
   "metadata": {},
   "outputs": [],
   "source": [
    "dev = qml.device(\"default.qubit\", wires=4)\n",
    "\n",
    "@qml.qnode(dev)\n",
    "def qcircuit(params, x=None, y=None):\n",
    "    for i in range(len(params)):\n",
    "        qml.Rot(x[0]*(math.pi)/2,x[1]*(math.pi)/2,x[2]*(math.pi)/2, wires=0)\n",
    "        qml.Rot(x[3]*(math.pi)/2,x[4]*(math.pi)/2,x[5]*(math.pi)/2, wires=0)\n",
    "        qml.Rot(x[6]*(math.pi)/2,x[7]*(math.pi)/2,x[8]*(math.pi)/2, wires=0)\n",
    "        qml.Rot(x[9]*(math.pi)/2,x[10]*(math.pi)/2,0, wires=0)\n",
    "        qml.Rot(x[0]*(math.pi)/2,x[1]*(math.pi)/2,x[2]*(math.pi)/2, wires=1)\n",
    "        qml.Rot(x[3]*(math.pi)/2,x[4]*(math.pi)/2,x[5]*(math.pi)/2, wires=1)\n",
    "        qml.Rot(x[6]*(math.pi)/2,x[7]*(math.pi)/2,x[8]*(math.pi)/2, wires=1)\n",
    "        qml.Rot(x[9]*(math.pi)/2,x[10]*(math.pi)/2,0, wires=1)\n",
    "        qml.Rot(x[0]*(math.pi)/2,x[1]*(math.pi)/2,x[2]*(math.pi)/2, wires=2)\n",
    "        qml.Rot(x[3]*(math.pi)/2,x[4]*(math.pi)/2,x[5]*(math.pi)/2, wires=2)\n",
    "        qml.Rot(x[6]*(math.pi)/2,x[7]*(math.pi)/2,x[8]*(math.pi)/2, wires=2)\n",
    "        qml.Rot(x[9]*(math.pi)/2,x[10]*(math.pi)/2,0, wires=2)\n",
    "        qml.Rot(x[0]*(math.pi)/2,x[1]*(math.pi)/2,x[2]*(math.pi)/2, wires=3)\n",
    "        qml.Rot(x[3]*(math.pi)/2,x[4]*(math.pi)/2,x[5]*(math.pi)/2, wires=3)\n",
    "        qml.Rot(x[6]*(math.pi)/2,x[7]*(math.pi)/2,x[8]*(math.pi)/2, wires=3)\n",
    "        qml.Rot(x[9]*(math.pi)/2,x[10]*(math.pi)/2,0, wires=3)\n",
    "        qml.Rot(params[i][0]*(math.pi)/2,params[i][1]*(math.pi)/2,params[i][2]*(math.pi)/2, wires=0)\n",
    "        qml.Rot(params[i][3]*(math.pi)/2,params[i][4]*(math.pi)/2,params[i][5]*(math.pi)/2, wires=0)\n",
    "        qml.Rot(params[i][6]*(math.pi)/2,params[i][7]*(math.pi)/2,params[i][8]*(math.pi)/2, wires=0)\n",
    "        qml.Rot(params[i][9]*(math.pi)/2,params[i][10]*(math.pi)/2,params[i][11]*(math.pi)/2, wires=0)\n",
    "        qml.Rot(params[i][12]*(math.pi)/2,params[i][13]*(math.pi)/2,params[i][14]*(math.pi)/2, wires=1)\n",
    "        qml.Rot(params[i][15]*(math.pi)/2,params[i][16]*(math.pi)/2,params[i][17]*(math.pi)/2, wires=1)\n",
    "        qml.Rot(params[i][18]*(math.pi)/2,params[i][19]*(math.pi)/2,params[i][20]*(math.pi)/2, wires=1)\n",
    "        qml.Rot(params[i][21]*(math.pi)/2,params[i][22]*(math.pi)/2,params[i][23]*(math.pi)/2, wires=1)\n",
    "        qml.Rot(params[i][24]*(math.pi)/2,params[i][25]*(math.pi)/2,params[i][26]*(math.pi)/2, wires=2)\n",
    "        qml.Rot(params[i][27]*(math.pi)/2,params[i][28]*(math.pi)/2,params[i][29]*(math.pi)/2, wires=2)\n",
    "        qml.Rot(params[i][30]*(math.pi)/2,params[i][31]*(math.pi)/2,params[i][32]*(math.pi)/2, wires=2)\n",
    "        qml.Rot(params[i][33]*(math.pi)/2,params[i][34]*(math.pi)/2,params[i][35]*(math.pi)/2, wires=2)\n",
    "        qml.Rot(params[i][36]*(math.pi)/2,params[i][37]*(math.pi)/2,params[i][38]*(math.pi)/2, wires=3)\n",
    "        qml.Rot(params[i][39]*(math.pi)/2,params[i][40]*(math.pi)/2,params[i][41]*(math.pi)/2, wires=3)\n",
    "        qml.Rot(params[i][42]*(math.pi)/2,params[i][43]*(math.pi)/2,params[i][44]*(math.pi)/2, wires=3)\n",
    "        qml.Rot(params[i][45]*(math.pi)/2,params[i][46]*(math.pi)/2,params[i][47]*(math.pi)/2, wires=3)\n",
    "#        if i== len(params) -1 :\n",
    "#           break\n",
    "#        qml.Hadamard(wires=1)\n",
    "#        qml.CNOT(wires=[0,1])\n",
    "#       qml.Hadamard(wires=1)\n",
    "    return qml.expval(qml.Hermitian(y, wires=[0,1,2,3]))\n",
    "\n",
    "\n",
    "def fidelity(state1, state2):\n",
    "    return np.abs(np.dot(np.conj(state1), state2))\n",
    "\n",
    "\n",
    "def cost(params, x, y, state_labels=None):\n",
    "    loss = 0.0\n",
    "    dm_labels = [density_matrix(s) for s in state_labels]\n",
    "    for i in range(len(x)):\n",
    "        f = qcircuit(params, x=x[i], y=dm_labels[y[i]])\n",
    "        loss = loss + (1 - f) ** 2\n",
    "    return loss / len(x)"
   ]
  },
  {
   "cell_type": "markdown",
   "metadata": {},
   "source": [
    "Utility functions for testing and creating batches\n",
    "~~~~~~~~~~~~~~~~~~~~~~~~~~~~~~~~~~~~~~~~~~~~~~~~~~\n",
    "\n"
   ]
  },
  {
   "cell_type": "code",
   "execution_count": 9,
   "metadata": {},
   "outputs": [],
   "source": [
    "def test(params, x, y, state_labels=None):\n",
    "    fidelity_values = []\n",
    "    output_states = []\n",
    "    dm_labels = [density_matrix(s) for s in state_labels]\n",
    "    for i in range(len(x)):\n",
    "        expectation = qcircuit(params, x=x[i], y=dm_labels[y[i]])\n",
    "        output_states.append(dev._state)\n",
    "    predicted = predicted_labels(output_states, state_labels)\n",
    "    return predicted, output_states\n",
    "\n",
    "\n",
    "def predicted_labels(states, state_labels=None):\n",
    "    output_labels = [\n",
    "        np.argmax([fidelity(s, label) for label in state_labels]) for s in states\n",
    "    ]\n",
    "    return np.array(output_labels)\n",
    "\n",
    "\n",
    "def accuracy_score(y_true, y_pred):\n",
    "    score = y_true == y_pred\n",
    "    return score.sum() / len(y_true)\n",
    "\n",
    "\n",
    "def iterate_minibatches(inputs, targets, batch_size):\n",
    "    for start_idx in range(0, inputs.shape[0] - batch_size + 1, batch_size):\n",
    "        idxs = slice(start_idx, start_idx + batch_size)\n",
    "        yield inputs[idxs], targets[idxs]"
   ]
  },
  {
   "cell_type": "code",
   "execution_count": 10,
   "metadata": {},
   "outputs": [],
   "source": [
    "Xdata, Xtest, y_train, y_test = train_test_split(X_tra, ans, test_size=0.33, random_state=42)\n",
    "Xdata = np.array(Xdata)\n",
    "Xtest = np.array(Xtest)"
   ]
  },
  {
   "cell_type": "markdown",
   "metadata": {},
   "source": [
    "Train a quantum classifier on the circle dataset\n",
    "~~~~~~~~~~~~~~~~~~~~~~~~~~~~~~~~~~~~~~~~~~~~~~~~\n",
    "\n"
   ]
  },
  {
   "cell_type": "code",
   "execution_count": null,
   "metadata": {},
   "outputs": [
    {
     "name": "stdout",
     "output_type": "stream",
     "text": [
      "[[0.37454012 0.95071431 0.73199394 0.59865848 0.15601864 0.15599452\n",
      "  0.05808361 0.86617615 0.60111501 0.70807258 0.02058449 0.96990985\n",
      "  0.83244264 0.21233911 0.18182497 0.18340451 0.30424224 0.52475643\n",
      "  0.43194502 0.29122914 0.61185289 0.13949386 0.29214465 0.36636184\n",
      "  0.45606998 0.78517596 0.19967378 0.51423444 0.59241457 0.04645041\n",
      "  0.60754485 0.17052412 0.06505159 0.94888554 0.96563203 0.80839735\n",
      "  0.30461377 0.09767211 0.68423303 0.44015249 0.12203823 0.49517691\n",
      "  0.03438852 0.9093204  0.25877998 0.66252228 0.31171108 0.52006802]\n",
      " [0.54671028 0.18485446 0.96958463 0.77513282 0.93949894 0.89482735\n",
      "  0.59789998 0.92187424 0.0884925  0.19598286 0.04522729 0.32533033\n",
      "  0.38867729 0.27134903 0.82873751 0.35675333 0.28093451 0.54269608\n",
      "  0.14092422 0.80219698 0.07455064 0.98688694 0.77224477 0.19871568\n",
      "  0.00552212 0.81546143 0.70685734 0.72900717 0.77127035 0.07404465\n",
      "  0.35846573 0.11586906 0.86310343 0.62329813 0.33089802 0.06355835\n",
      "  0.31098232 0.32518332 0.72960618 0.63755747 0.88721274 0.47221493\n",
      "  0.11959425 0.71324479 0.76078505 0.5612772  0.77096718 0.4937956 ]]\n",
      "Epoch:  0 | Cost: 0.939966 | Train accuracy: 0.013072 | Test Accuracy: 0.017045\n"
     ]
    }
   ],
   "source": [
    "# Generate training and test data\n",
    "num_training = 200\n",
    "num_test = 2000\n",
    "\n",
    "#Xdata, y_train = circle(num_training)\n",
    "X_train = np.hstack((Xdata, np.zeros((Xdata.shape[0], 1))))\n",
    "\n",
    "#Xtest, y_test = circle(num_test)\n",
    "X_test = np.hstack((Xtest, np.zeros((Xtest.shape[0], 1))))\n",
    "\n",
    "\n",
    "# Train using Adam optimizer and evaluate the classifier\n",
    "num_layers = 2\n",
    "learning_rate = 0.6\n",
    "epochs = 5\n",
    "batch_size = 32\n",
    "\n",
    "opt = AdamOptimizer(learning_rate, beta1=0.9, beta2=0.999)\n",
    "\n",
    "# initialize random weights\n",
    "params = np.random.uniform(size=(num_layers, 48))\n",
    "print(params)\n",
    "predicted_train, states_train = test(params, X_train, y_train, state_labels)\n",
    "accuracy_train = accuracy_score(y_train, predicted_train)\n",
    "\n",
    "predicted_test, states_test = test(params, X_test, y_test, state_labels)\n",
    "accuracy_test = accuracy_score(y_test, predicted_test)\n",
    "\n",
    "# save predictions with random weights for comparison\n",
    "initial_predictions = predicted_test\n",
    "\n",
    "loss = cost(params, X_test, y_test, state_labels)\n",
    "\n",
    "print(\n",
    "    \"Epoch: {:2d} | Cost: {:3f} | Train accuracy: {:3f} | Test Accuracy: {:3f}\".format(\n",
    "        0, loss, accuracy_train, accuracy_test))\n",
    "\n",
    "for it in range(epochs):\n",
    "    for Xbatch, ybatch in iterate_minibatches(X_train, y_train, batch_size=batch_size):\n",
    "        params = opt.step(lambda v: cost(v, Xbatch, ybatch, state_labels), params)\n",
    "\n",
    "    predicted_train, states_train = test(params, X_train, y_train, state_labels)\n",
    "    accuracy_train = accuracy_score(y_train, predicted_train)\n",
    "    loss = cost(params, X_train, y_train, state_labels)\n",
    "\n",
    "    predicted_test, states_test = test(params, X_test, y_test, state_labels)\n",
    "    accuracy_test = accuracy_score(y_test, predicted_test)\n",
    "    res = [it + 1, loss, accuracy_train, accuracy_test]\n",
    "    print(\n",
    "        \"Epoch: {:2d} | Loss: {:3f} | Train accuracy: {:3f} | Test accuracy: {:3f}\".format(\n",
    "            *res))"
   ]
  },
  {
   "cell_type": "markdown",
   "metadata": {},
   "source": [
    "Results\n",
    "~~~~~~~\n",
    "\n"
   ]
  },
  {
   "cell_type": "code",
   "execution_count": null,
   "metadata": {},
   "outputs": [],
   "source": [
    "#print(\"Cost: {:3f} | Train accuracy {:3f} | Test Accuracy : {:3f}\".format(\n",
    " #       loss, accuracy_train, accuracy_test))\n",
    "\n",
    "print(\"Learned weights\")\n",
    "for i in range(num_layers):\n",
    "    print(\"Layer {}: {}\".format(i, params[i]))\n",
    "\n",
    "\n",
    "fig, axes = plt.subplots(1, 3, figsize=(10, 3))\n",
    "plot_data(X_test, initial_predictions, fig, axes[0])\n",
    "plot_data(X_test, predicted_test, fig, axes[1])\n",
    "plot_data(X_test, y_test, fig, axes[2])\n",
    "axes[0].set_title(\"Predictions with random weights\")\n",
    "axes[1].set_title(\"Predictions after training\")\n",
    "axes[2].set_title(\"True test data\")\n",
    "plt.show()"
   ]
  },
  {
   "cell_type": "markdown",
   "metadata": {},
   "source": [
    "This tutorial was generated using the following Pennylane version:\n",
    "\n"
   ]
  },
  {
   "cell_type": "code",
   "execution_count": null,
   "metadata": {},
   "outputs": [],
   "source": [
    "qml.about()"
   ]
  },
  {
   "cell_type": "markdown",
   "metadata": {},
   "source": [
    "References\n",
    "----------\n",
    "[1] Pérez-Salinas, Adrián, et al. “Data re-uploading for a universal\n",
    "quantum classifier.” arXiv preprint arXiv:1907.02085 (2019).\n",
    "\n",
    "[2] Kingma, Diederik P., and Ba, J. \"Adam: A method for stochastic\n",
    "optimization.\" arXiv preprint arXiv:1412.6980 (2014).\n",
    "\n",
    "[3] Liu, Dong C., and Nocedal, J. \"On the limited memory BFGS\n",
    "method for large scale optimization.\" Mathematical programming\n",
    "45.1-3 (1989): 503-528.\n",
    "\n"
   ]
  }
 ],
 "metadata": {
  "kernelspec": {
   "display_name": "Python 3",
   "language": "python",
   "name": "python3"
  },
  "language_info": {
   "codemirror_mode": {
    "name": "ipython",
    "version": 3
   },
   "file_extension": ".py",
   "mimetype": "text/x-python",
   "name": "python",
   "nbconvert_exporter": "python",
   "pygments_lexer": "ipython3",
   "version": "3.7.3"
  }
 },
 "nbformat": 4,
 "nbformat_minor": 1
}
