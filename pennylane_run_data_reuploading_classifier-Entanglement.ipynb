{
 "cells": [
  {
   "cell_type": "code",
   "execution_count": 1,
   "metadata": {},
   "outputs": [],
   "source": [
    "%matplotlib inline"
   ]
  },
  {
   "cell_type": "code",
   "execution_count": 2,
   "metadata": {},
   "outputs": [],
   "source": [
    "import pennylane as qml\n",
    "from pennylane import numpy as np\n",
    "from pennylane.optimize import AdamOptimizer, GradientDescentOptimizer\n",
    "import random\n",
    "import matplotlib.pyplot as plt\n",
    "from sklearn.model_selection import train_test_split\n",
    "import math\n",
    "from sklearn.preprocessing import MinMaxScaler\n",
    "scaler = MinMaxScaler()\n",
    "\n",
    "np.random.seed(42)\n",
    "\n",
    "\n",
    "def density_matrix(state):\n",
    "    return state * np.conj(state).T\n",
    "\n",
    "\n",
    "label_0 = [[1],[0],[0],[0]]\n",
    "label_1 = [[0],[0],[0],[1]]\n",
    "state_labels = [label_0, label_1]"
   ]
  },
  {
   "cell_type": "code",
   "execution_count": 3,
   "metadata": {},
   "outputs": [
    {
     "data": {
      "text/plain": [
       "array([[1, 0, 0, 0],\n",
       "       [0, 0, 0, 0],\n",
       "       [0, 0, 0, 0],\n",
       "       [0, 0, 0, 0]])"
      ]
     },
     "execution_count": 3,
     "metadata": {},
     "output_type": "execute_result"
    }
   ],
   "source": [
    "density_matrix(state_labels[0])"
   ]
  },
  {
   "cell_type": "code",
   "execution_count": 4,
   "metadata": {},
   "outputs": [],
   "source": [
    "X_tra = []\n",
    "Y_ans = []\n",
    "with open('data_banknote_authentication.txt', 'r') as f:\n",
    "    x = f.readlines()\n",
    "random.shuffle(x)\n",
    "for i in range(len(x)):\n",
    "    x[i] = x[i][:-1]\n",
    "    x[i] = x[i].split(',')\n",
    "    X_tra.append(x[i][:-1])\n",
    "    Y_ans.append(x[i][-1:])\n",
    "x\n",
    "ans = []\n",
    "for i in range(len(Y_ans)):\n",
    "    if(Y_ans[i]==min(Y_ans)):\n",
    "        Y_ans[i]=['0']\n",
    "    ans.append(Y_ans[i][0])\n",
    "for i in range(len(X_tra)):\n",
    "    ans[i]=int(ans[i])\n",
    "    for j in range(len(X_tra[i])):\n",
    "        X_tra[i][j]=float(X_tra[i][j])"
   ]
  },
  {
   "cell_type": "code",
   "execution_count": 5,
   "metadata": {},
   "outputs": [
    {
     "name": "stdout",
     "output_type": "stream",
     "text": [
      "MinMaxScaler(copy=True, feature_range=(0, 1))\n"
     ]
    }
   ],
   "source": [
    "print(scaler.fit(X_tra))"
   ]
  },
  {
   "cell_type": "code",
   "execution_count": 6,
   "metadata": {},
   "outputs": [],
   "source": [
    "X_tra = scaler.transform(X_tra)"
   ]
  },
  {
   "cell_type": "code",
   "execution_count": 7,
   "metadata": {},
   "outputs": [],
   "source": [
    "dev = qml.device(\"default.qubit\", wires=2)\n",
    "\n",
    "@qml.qnode(dev)\n",
    "def qcircuit(params, x=None, y=None):\n",
    "    for i in range(len(params)):\n",
    "        qml.Rot(x[0]*(math.pi),x[1]*(math.pi),x[2]*(math.pi), wires=0)\n",
    "        qml.Rot(x[2]*(math.pi),x[3]*(math.pi),x[4]*(math.pi), wires=1)\n",
    "        #qml.Rot(x[2]*(math.pi)/2,x[3]*(math.pi)/2,x[4]*(math.pi)/2, wires=2)\n",
    "        qml.Rot(params[i][0]*(math.pi),params[i][1]*(math.pi),params[i][2]*(math.pi), wires=0)\n",
    "        qml.Rot(params[i][0]*(math.pi),params[i][1]*(math.pi),params[i][2]*(math.pi), wires=1)\n",
    "        #qml.Rot(params[i][2]*(math.pi)/2,params[i][3]*(math.pi)/2,params[i][4]*(math.pi)/2, wires=2)\n",
    "    return qml.expval(qml.Hermitian(y, wires=[0,1]))\n",
    "\n",
    "\n",
    "def fidelity(state1, state2):\n",
    "    return np.abs(np.dot(np.conj(state1), state2))\n",
    "\n",
    "\n",
    "def cost(params, x, y, state_labels=None):\n",
    "    loss = 0.0\n",
    "    dm_labels = [density_matrix(s) for s in state_labels]\n",
    "    for i in range(len(x)):\n",
    "        f = qcircuit(params, x=x[i], y=dm_labels[y[i]])\n",
    "        loss = loss + (1 - f) ** 2\n",
    "    return loss / len(x)"
   ]
  },
  {
   "cell_type": "markdown",
   "metadata": {},
   "source": [
    "Utility functions for testing and creating batches\n",
    "~~~~~~~~~~~~~~~~~~~~~~~~~~~~~~~~~~~~~~~~~~~~~~~~~~\n",
    "\n"
   ]
  },
  {
   "cell_type": "code",
   "execution_count": 8,
   "metadata": {},
   "outputs": [],
   "source": [
    "def test(params, x, y, state_labels=None):\n",
    "    fidelity_values = []\n",
    "    output_states = []\n",
    "    dm_labels = [density_matrix(s) for s in state_labels]\n",
    "    for i in range(len(x)):\n",
    "        expectation = qcircuit(params, x=x[i], y=dm_labels[y[i]])\n",
    "        output_states.append(dev._state)\n",
    "    predicted = predicted_labels(output_states, state_labels)\n",
    "    return predicted, output_states\n",
    "\n",
    "\n",
    "def predicted_labels(states, state_labels=None):\n",
    "    output_labels = [\n",
    "        np.argmax([fidelity(s, label) for label in state_labels]) for s in states\n",
    "    ]\n",
    "    return np.array(output_labels)\n",
    "\n",
    "\n",
    "def accuracy_score(y_true, y_pred):\n",
    "    score = y_true == y_pred\n",
    "    return score.sum() / len(y_true)\n",
    "\n",
    "\n",
    "def iterate_minibatches(inputs, targets, batch_size):\n",
    "    for start_idx in range(0, inputs.shape[0] - batch_size + 1, batch_size):\n",
    "        idxs = slice(start_idx, start_idx + batch_size)\n",
    "        yield inputs[idxs], targets[idxs]"
   ]
  },
  {
   "cell_type": "code",
   "execution_count": 9,
   "metadata": {},
   "outputs": [],
   "source": [
    "Xdata, Xtest, y_train, y_test = train_test_split(X_tra, ans, test_size=0.33, random_state=42)\n",
    "Xdata = np.array(Xdata)\n",
    "Xtest = np.array(Xtest)"
   ]
  },
  {
   "cell_type": "markdown",
   "metadata": {},
   "source": [
    "Train a quantum classifier on the circle dataset\n",
    "~~~~~~~~~~~~~~~~~~~~~~~~~~~~~~~~~~~~~~~~~~~~~~~~\n",
    "\n"
   ]
  },
  {
   "cell_type": "code",
   "execution_count": 10,
   "metadata": {
    "scrolled": true
   },
   "outputs": [
    {
     "name": "stdout",
     "output_type": "stream",
     "text": [
      "[[0.37454012 0.95071431 0.73199394]\n",
      " [0.59865848 0.15601864 0.15599452]\n",
      " [0.05808361 0.86617615 0.60111501]]\n",
      "Epoch:  0 | Cost: 0.623473 | Train accuracy: 0.396083 | Test Accuracy: 0.410596\n",
      "Epoch:  1 | Loss: 0.468810 | Train accuracy: 0.749728 | Test accuracy: 0.726269\n",
      "Epoch:  2 | Loss: 0.402466 | Train accuracy: 0.754081 | Test accuracy: 0.730684\n",
      "Epoch:  3 | Loss: 0.423290 | Train accuracy: 0.625680 | Test accuracy: 0.609272\n",
      "Epoch:  4 | Loss: 0.474231 | Train accuracy: 0.572361 | Test accuracy: 0.562914\n",
      "Epoch:  5 | Loss: 0.434115 | Train accuracy: 0.623504 | Test accuracy: 0.602649\n",
      "Epoch:  6 | Loss: 0.419569 | Train accuracy: 0.797606 | Test accuracy: 0.772627\n",
      "Epoch:  7 | Loss: 0.415515 | Train accuracy: 0.785637 | Test accuracy: 0.801325\n",
      "Epoch:  8 | Loss: 0.436349 | Train accuracy: 0.669206 | Test accuracy: 0.646799\n",
      "Epoch:  9 | Loss: 0.633965 | Train accuracy: 0.426551 | Test accuracy: 0.423841\n",
      "Epoch: 10 | Loss: 0.464288 | Train accuracy: 0.620239 | Test accuracy: 0.578366\n"
     ]
    }
   ],
   "source": [
    "# Generate training and test data\n",
    "num_training = 200\n",
    "num_test = 2000\n",
    "\n",
    "#Xdata, y_train = circle(num_training)\n",
    "X_train = np.hstack((Xdata, np.zeros((Xdata.shape[0], 1))))\n",
    "\n",
    "#Xtest, y_test = circle(num_test)\n",
    "X_test = np.hstack((Xtest, np.zeros((Xtest.shape[0], 1))))\n",
    "\n",
    "\n",
    "# Train using Adam optimizer and evaluate the classifier\n",
    "num_layers = 3\n",
    "learning_rate = 0.6\n",
    "epochs = 10\n",
    "batch_size = 32\n",
    "\n",
    "opt = AdamOptimizer(learning_rate, beta1=0.9, beta2=0.999)\n",
    "\n",
    "# initialize random weights\n",
    "params = np.random.uniform(size=(num_layers, 3))\n",
    "print(params)\n",
    "predicted_train, states_train = test(params, X_train, y_train, state_labels)\n",
    "accuracy_train = accuracy_score(y_train, predicted_train)\n",
    "\n",
    "predicted_test, states_test = test(params, X_test, y_test, state_labels)\n",
    "accuracy_test = accuracy_score(y_test, predicted_test)\n",
    "\n",
    "# save predictions with random weights for comparison\n",
    "initial_predictions = predicted_test\n",
    "\n",
    "loss = cost(params, X_test, y_test, state_labels)\n",
    "\n",
    "print(\n",
    "    \"Epoch: {:2d} | Cost: {:3f} | Train accuracy: {:3f} | Test Accuracy: {:3f}\".format(\n",
    "        0, loss, accuracy_train, accuracy_test))\n",
    "\n",
    "for it in range(epochs):\n",
    "    for Xbatch, ybatch in iterate_minibatches(X_train, y_train, batch_size=batch_size):\n",
    "        params = opt.step(lambda v: cost(v, Xbatch, ybatch, state_labels), params)\n",
    "\n",
    "    predicted_train, states_train = test(params, X_train, y_train, state_labels)\n",
    "    accuracy_train = accuracy_score(y_train, predicted_train)\n",
    "    loss = cost(params, X_train, y_train, state_labels)\n",
    "\n",
    "    predicted_test, states_test = test(params, X_test, y_test, state_labels)\n",
    "    accuracy_test = accuracy_score(y_test, predicted_test)\n",
    "    res = [it + 1, loss, accuracy_train, accuracy_test]\n",
    "    print(\n",
    "        \"Epoch: {:2d} | Loss: {:3f} | Train accuracy: {:3f} | Test accuracy: {:3f}\".format(\n",
    "            *res))"
   ]
  },
  {
   "cell_type": "markdown",
   "metadata": {},
   "source": [
    "Results\n",
    "~~~~~~~\n",
    "\n"
   ]
  },
  {
   "cell_type": "code",
   "execution_count": 2,
   "metadata": {},
   "outputs": [
    {
     "name": "stdout",
     "output_type": "stream",
     "text": [
      "Learned weights\n"
     ]
    },
    {
     "ename": "NameError",
     "evalue": "name 'num_layers' is not defined",
     "output_type": "error",
     "traceback": [
      "\u001b[0;31m---------------------------------------------------------------------------\u001b[0m",
      "\u001b[0;31mNameError\u001b[0m                                 Traceback (most recent call last)",
      "\u001b[0;32m<ipython-input-2-7a3b4d255acd>\u001b[0m in \u001b[0;36m<module>\u001b[0;34m\u001b[0m\n\u001b[1;32m      3\u001b[0m \u001b[0;34m\u001b[0m\u001b[0m\n\u001b[1;32m      4\u001b[0m \u001b[0mprint\u001b[0m\u001b[0;34m(\u001b[0m\u001b[0;34m\"Learned weights\"\u001b[0m\u001b[0;34m)\u001b[0m\u001b[0;34m\u001b[0m\u001b[0;34m\u001b[0m\u001b[0m\n\u001b[0;32m----> 5\u001b[0;31m \u001b[0;32mfor\u001b[0m \u001b[0mi\u001b[0m \u001b[0;32min\u001b[0m \u001b[0mrange\u001b[0m\u001b[0;34m(\u001b[0m\u001b[0mnum_layers\u001b[0m\u001b[0;34m)\u001b[0m\u001b[0;34m:\u001b[0m\u001b[0;34m\u001b[0m\u001b[0;34m\u001b[0m\u001b[0m\n\u001b[0m\u001b[1;32m      6\u001b[0m     \u001b[0mprint\u001b[0m\u001b[0;34m(\u001b[0m\u001b[0;34m\"Layer {}: {}\"\u001b[0m\u001b[0;34m.\u001b[0m\u001b[0mformat\u001b[0m\u001b[0;34m(\u001b[0m\u001b[0mi\u001b[0m\u001b[0;34m,\u001b[0m \u001b[0mparams\u001b[0m\u001b[0;34m[\u001b[0m\u001b[0mi\u001b[0m\u001b[0;34m]\u001b[0m\u001b[0;34m)\u001b[0m\u001b[0;34m)\u001b[0m\u001b[0;34m\u001b[0m\u001b[0;34m\u001b[0m\u001b[0m\n\u001b[1;32m      7\u001b[0m \u001b[0;34m\u001b[0m\u001b[0m\n",
      "\u001b[0;31mNameError\u001b[0m: name 'num_layers' is not defined"
     ]
    }
   ],
   "source": [
    "#print(\"Cost: {:3f} | Train accuracy {:3f} | Test Accuracy : {:3f}\".format(\n",
    " #       loss, accuracy_train, accuracy_test))\n",
    "\n",
    "print(\"Learned weights\")\n",
    "for i in range(num_layers):\n",
    "    print(\"Layer {}: {}\".format(i, params[i]))\n",
    "\n",
    "\n",
    "fig, axes = plt.subplots(1, 3, figsize=(10, 3))\n",
    "plot_data(X_test, initial_predictions, fig, axes[0])\n",
    "plot_data(X_test, predicted_test, fig, axes[1])\n",
    "plot_data(X_test, y_test, fig, axes[2])\n",
    "axes[0].set_title(\"Predictions with random weights\")\n",
    "axes[1].set_title(\"Predictions after training\")\n",
    "axes[2].set_title(\"True test data\")\n",
    "plt.show()"
   ]
  },
  {
   "cell_type": "markdown",
   "metadata": {},
   "source": [
    "This tutorial was generated using the following Pennylane version:\n",
    "\n"
   ]
  },
  {
   "cell_type": "code",
   "execution_count": null,
   "metadata": {},
   "outputs": [],
   "source": [
    "qml.about()"
   ]
  },
  {
   "cell_type": "markdown",
   "metadata": {},
   "source": [
    "References\n",
    "----------\n",
    "[1] Pérez-Salinas, Adrián, et al. “Data re-uploading for a universal\n",
    "quantum classifier.” arXiv preprint arXiv:1907.02085 (2019).\n",
    "\n",
    "[2] Kingma, Diederik P., and Ba, J. \"Adam: A method for stochastic\n",
    "optimization.\" arXiv preprint arXiv:1412.6980 (2014).\n",
    "\n",
    "[3] Liu, Dong C., and Nocedal, J. \"On the limited memory BFGS\n",
    "method for large scale optimization.\" Mathematical programming\n",
    "45.1-3 (1989): 503-528.\n",
    "\n"
   ]
  }
 ],
 "metadata": {
  "kernelspec": {
   "display_name": "Python 3",
   "language": "python",
   "name": "python3"
  },
  "language_info": {
   "codemirror_mode": {
    "name": "ipython",
    "version": 3
   },
   "file_extension": ".py",
   "mimetype": "text/x-python",
   "name": "python",
   "nbconvert_exporter": "python",
   "pygments_lexer": "ipython3",
   "version": "3.7.3"
  }
 },
 "nbformat": 4,
 "nbformat_minor": 1
}
