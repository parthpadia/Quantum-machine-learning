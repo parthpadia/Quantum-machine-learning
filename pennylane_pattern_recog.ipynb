{
 "cells": [
  {
   "cell_type": "code",
   "execution_count": 1,
   "metadata": {},
   "outputs": [],
   "source": [
    "%matplotlib inline"
   ]
  },
  {
   "cell_type": "code",
   "execution_count": 2,
   "metadata": {},
   "outputs": [],
   "source": [
    "import pennylane as qml\n",
    "from pennylane import numpy as np\n",
    "from pennylane.optimize import AdamOptimizer, GradientDescentOptimizer\n",
    "import random\n",
    "import matplotlib.pyplot as plt\n",
    "from sklearn.model_selection import train_test_split\n",
    "import math\n",
    "from sklearn.preprocessing import MinMaxScaler\n",
    "scaler = MinMaxScaler()\n",
    "\n",
    "np.random.seed(42)\n",
    "\n",
    "\n",
    "def density_matrix(state):\n",
    "    return state * np.conj(state).T\n",
    "\n",
    "\n",
    "label_0 = [[1],[0]]\n",
    "label_1 = [[0],[1]]\n",
    "\n",
    "state_labels = [label_0, label_1]"
   ]
  },
  {
   "cell_type": "code",
   "execution_count": 48,
   "metadata": {},
   "outputs": [
    {
     "data": {
      "text/plain": [
       "array([[0, 0],\n",
       "       [0, 1]])"
      ]
     },
     "execution_count": 48,
     "metadata": {},
     "output_type": "execute_result"
    }
   ],
   "source": [
    "density_matrix(state_labels[1])"
   ]
  },
  {
   "cell_type": "code",
   "execution_count": 49,
   "metadata": {},
   "outputs": [],
   "source": [
    "X_tra = []\n",
    "Y_ans = []\n",
    "with open('data.txt', 'r') as f:\n",
    "    x = f.readlines()\n",
    "x\n",
    "for i in range(len(x)):\n",
    "    x[i] = x[i][:-1]\n",
    "    x[i] = x[i].split(' ')\n",
    "    X_tra.append(x[i][:-1])\n",
    "    Y_ans.append(x[i][-1:])\n",
    "X_tra\n",
    "ans = []\n",
    "for i in range(len(Y_ans)):\n",
    "    if(Y_ans[i]==min(Y_ans)):\n",
    "        Y_ans[i]=['0']\n",
    "    ans.append(Y_ans[i][0])\n",
    "for i in range(len(X_tra)):\n",
    "    ans[i]=int(ans[i])\n",
    "    for j in range(len(X_tra[i])):\n",
    "        X_tra[i][j]=float(X_tra[i][j])"
   ]
  },
  {
   "cell_type": "code",
   "execution_count": 50,
   "metadata": {},
   "outputs": [
    {
     "name": "stdout",
     "output_type": "stream",
     "text": [
      "MinMaxScaler(copy=True, feature_range=(0, 1))\n"
     ]
    }
   ],
   "source": [
    "print(scaler.fit(X_tra))"
   ]
  },
  {
   "cell_type": "code",
   "execution_count": 51,
   "metadata": {},
   "outputs": [],
   "source": [
    "X_tra = scaler.transform(X_tra)"
   ]
  },
  {
   "cell_type": "code",
   "execution_count": 52,
   "metadata": {},
   "outputs": [
    {
     "data": {
      "text/plain": [
       "320"
      ]
     },
     "execution_count": 52,
     "metadata": {},
     "output_type": "execute_result"
    }
   ],
   "source": [
    "len(X_tra)"
   ]
  },
  {
   "cell_type": "raw",
   "metadata": {},
   "source": [
    "X_tra"
   ]
  },
  {
   "cell_type": "code",
   "execution_count": 53,
   "metadata": {},
   "outputs": [],
   "source": [
    "dev = qml.device(\"default.qubit\", wires=1)\n",
    "\n",
    "@qml.qnode(dev)\n",
    "def qcircuit(params, x=None, y=None):\n",
    "    for i in range(len(params)):\n",
    "        qml.Rot(x[0]*(math.pi)/2,x[1]*(math.pi)/2,x[2]*(math.pi)/2, wires=0)\n",
    "        qml.Rot(params[i][0]*(math.pi)/2,params[i][1]*(math.pi)/2,params[i][2]*(math.pi)/2, wires=0)\n",
    "        qml.Rot(0,x[2]*(math.pi)/2,x[3]*(math.pi)/2, wires=1)\n",
    "        qml.Rot(x[6]*(math.pi)/2,x[7]*(math.pi)/2,x[8]*(math.pi)/2, wires=2)\n",
    "        qml.Rot(x[9]*(math.pi)/2,x[10]*(math.pi)/2,0, wires=3)\n",
    "        qml.Rot(x[3]*(math.pi)/2,0,0,wires=0)\n",
    "        qml.Rot(params[i][3]*(math.pi)/2,0,0, wires=0)\n",
    "        qml.Rot(params[i][6]*(math.pi)/2,params[i][7]*(math.pi)/2,params[i][8]*(math.pi)/2, wires=2)\n",
    "        qml.Rot(params[i][9]*(math.pi)/2,params[i][10]*(math.pi)/2,params[i][11]*(math.pi)/2, wires=3)\n",
    "        if i== len(params) -1 :\n",
    "          break\n",
    "        qml.Hadamard(wires=1)\n",
    "        qml.CNOT(wires=[0,1])\n",
    "        qml.Hadamard(wires=1)\n",
    "    return qml.expval(qml.Hermitian(y, wires=[0]))\n",
    "\n",
    "\n",
    "def fidelity(state1, state2):\n",
    "    return np.abs(np.dot(np.conj(state1), state2))\n",
    "\n",
    "\n",
    "def cost(params, x, y, state_labels=None):\n",
    "    loss = 0.0\n",
    "    dm_labels = [density_matrix(s) for s in state_labels]\n",
    "    for i in range(len(x)):\n",
    "        f = qcircuit(params, x=x[i], y=dm_labels[y[i]])\n",
    "        loss = loss + (1 - f) ** 2\n",
    "    return loss / len(x)"
   ]
  },
  {
   "cell_type": "markdown",
   "metadata": {},
   "source": [
    "Utility functions for testing and creating batches\n",
    "~~~~~~~~~~~~~~~~~~~~~~~~~~~~~~~~~~~~~~~~~~~~~~~~~~\n",
    "\n"
   ]
  },
  {
   "cell_type": "code",
   "execution_count": 54,
   "metadata": {},
   "outputs": [],
   "source": [
    "def test(params, x, y, state_labels=None):\n",
    "    fidelity_values = []\n",
    "    output_states = []\n",
    "    dm_labels = [density_matrix(s) for s in state_labels]\n",
    "    for i in range(len(x)):\n",
    "        expectation = qcircuit(params, x=x[i], y=dm_labels[y[i]])\n",
    "        output_states.append(dev._state)\n",
    "    predicted = predicted_labels(output_states, state_labels)\n",
    "    return predicted, output_states\n",
    "\n",
    "def test1(params, x, y, state_labels=None):\n",
    "    fidelity_values = []\n",
    "    output_states = []\n",
    "    dm_labels = [density_matrix(s) for s in state_labels]\n",
    "    for i in range(len(x)):\n",
    "        expectation = qcircuit(params, x=x[i], y=dm_labels[y[i]])\n",
    "        output_states.append(dev._state)\n",
    "    predicted = predicted_labels(output_states, state_labels)\n",
    "    return predicted, output_states\n",
    "\n",
    "\n",
    "def predicted_labels(states, state_labels=None):\n",
    "    output_labels = [\n",
    "        np.argmax([fidelity(s, label) for label in state_labels]) for s in states\n",
    "    ]\n",
    "    return np.array(output_labels)\n",
    "\n",
    "\n",
    "def accuracy_score(y_true, y_pred):\n",
    "    score=0\n",
    "    for i in range(len(y_true)):\n",
    "        if(y_true[i]==y_pred[i]):\n",
    "            score=score+1;\n",
    "    return score / len(y_true)\n",
    "\n",
    "\n",
    "def iterate_minibatches(inputs, targets, batch_size):\n",
    "    for start_idx in range(0, inputs.shape[0] - batch_size + 1, batch_size):\n",
    "        idxs = slice(start_idx, start_idx + batch_size)\n",
    "        yield inputs[idxs], targets[idxs]"
   ]
  },
  {
   "cell_type": "code",
   "execution_count": 55,
   "metadata": {},
   "outputs": [],
   "source": [
    "Xdata, Xtest, y_train, y_test = train_test_split(X_tra, ans, test_size=0.33)\n",
    "Xdata = np.array(Xdata)\n",
    "Xtest = np.array(Xtest)"
   ]
  },
  {
   "cell_type": "markdown",
   "metadata": {},
   "source": [
    "Train a quantum classifier on the circle dataset\n",
    "~~~~~~~~~~~~~~~~~~~~~~~~~~~~~~~~~~~~~~~~~~~~~~~~\n",
    "\n"
   ]
  },
  {
   "cell_type": "code",
   "execution_count": 56,
   "metadata": {},
   "outputs": [
    {
     "name": "stdout",
     "output_type": "stream",
     "text": [
      "[[0.57229247 0.98033158 0.07534626 0.30569702]\n",
      " [0.19091103 0.26847486 0.48527987 0.37268687]\n",
      " [0.39469147 0.84421314 0.93001683 0.07041613]]\n",
      "Epoch:  0 | Cost: 0.569724 | Train accuracy: 0.252336 | Test Accuracy: 0.245283\n",
      "Epoch:  1 | Loss: 0.259421 | Train accuracy: 0.490654 | Test accuracy: 0.518868\n",
      "Epoch:  2 | Loss: 0.193961 | Train accuracy: 0.495327 | Test accuracy: 0.509434\n",
      "Epoch:  3 | Loss: 0.200659 | Train accuracy: 0.813084 | Test accuracy: 0.811321\n",
      "Epoch:  4 | Loss: 0.111603 | Train accuracy: 0.948598 | Test accuracy: 0.915094\n",
      "Epoch:  5 | Loss: 0.089432 | Train accuracy: 0.859813 | Test accuracy: 0.905660\n",
      "Epoch:  6 | Loss: 0.041069 | Train accuracy: 1.000000 | Test accuracy: 1.000000\n",
      "Epoch:  7 | Loss: 0.020537 | Train accuracy: 1.000000 | Test accuracy: 1.000000\n"
     ]
    }
   ],
   "source": [
    "X_train = np.hstack((Xdata, np.zeros((Xdata.shape[0], 1))))\n",
    "\n",
    "X_test = np.hstack((Xtest, np.zeros((Xtest.shape[0], 1))))\n",
    "\n",
    "\n",
    "# Train using Adam optimizer and evaluate the classifier\n",
    "num_layers = 3\n",
    "learning_rate = 0.6\n",
    "epochs = 7\n",
    "batch_size = 32\n",
    "\n",
    "trial_no =[]\n",
    "cost_arr=[]\n",
    "Test_Accu_arr=[]\n",
    "Train_Accu_arr=[]\n",
    "\n",
    "opt = AdamOptimizer(learning_rate, beta1=0.9, beta2=0.999)\n",
    "\n",
    "# initialize random weights\n",
    "params = np.random.uniform(size=(num_layers, 4))\n",
    "print(params)\n",
    "predicted_train, states_train = test(params, X_train, y_train, state_labels)\n",
    "accuracy_train = accuracy_score(y_train, predicted_train)\n",
    "\n",
    "predicted_test, states_test = test(params, X_test, y_test, state_labels)\n",
    "accuracy_test = accuracy_score(y_test, predicted_test)\n",
    "\n",
    "# save predictions with random weights for comparison\n",
    "initial_predictions = predicted_test\n",
    "\n",
    "loss = cost(params, X_test, y_test, state_labels)\n",
    "\n",
    "print(\n",
    "    \"Epoch: {:2d} | Cost: {:3f} | Train accuracy: {:3f} | Test Accuracy: {:3f}\".format(\n",
    "        0, loss, accuracy_train, accuracy_test))\n",
    "\n",
    "trial_no.append(0)\n",
    "cost_arr.append(loss)\n",
    "Train_Accu_arr.append(accuracy_train)\n",
    "Test_Accu_arr.append(accuracy_test)\n",
    "\n",
    "for it in range(epochs):\n",
    "    for Xbatch, ybatch in iterate_minibatches(X_train, y_train, batch_size=batch_size):\n",
    "        params = opt.step(lambda v: cost(v, Xbatch, ybatch, state_labels), params)\n",
    "\n",
    "    predicted_train, states_train = test(params, X_train, y_train, state_labels)\n",
    "    accuracy_train = accuracy_score(y_train, predicted_train)\n",
    "    trial_no.append(it+1)\n",
    "    cost_arr.append(loss)\n",
    "    Train_Accu_arr.append(accuracy_train)\n",
    "    Test_Accu_arr.append(accuracy_test)\n",
    "    loss = cost(params, X_train, y_train, state_labels)\n",
    "\n",
    "    predicted_test, states_test = test(params, X_test, y_test, state_labels)\n",
    "    accuracy_test = accuracy_score(y_test, predicted_test)\n",
    "    res = [it + 1, loss, accuracy_train, accuracy_test]\n",
    "    print(\n",
    "        \"Epoch: {:2d} | Loss: {:3f} | Train accuracy: {:3f} | Test accuracy: {:3f}\".format(\n",
    "            *res))"
   ]
  },
  {
   "cell_type": "code",
   "execution_count": 57,
   "metadata": {},
   "outputs": [
    {
     "data": {
      "text/plain": [
       "[<matplotlib.lines.Line2D at 0x1a17ab07f0>,\n",
       " <matplotlib.lines.Line2D at 0x1a17ab0438>,\n",
       " <matplotlib.lines.Line2D at 0x1a17ab0c50>]"
      ]
     },
     "execution_count": 57,
     "metadata": {},
     "output_type": "execute_result"
    },
    {
     "data": {
      "image/png": "[encoded data removed]",
      "text/plain": [
       "<Figure size 432x288 with 1 Axes>"
      ]
     },
     "metadata": {
      "needs_background": "light"
     },
     "output_type": "display_data"
    }
   ],
   "source": [
    "plt.plot(trial_no, cost_arr,'r', trial_no, Train_Accu_arr,'b', trial_no,Test_Accu_arr,'g')"
   ]
  },
  {
   "cell_type": "code",
   "execution_count": 36,
   "metadata": {},
   "outputs": [
    {
     "data": {
      "image/png": "[encoded data removed]",
      "text/plain": [
       "<Figure size 432x288 with 1 Axes>"
      ]
     },
     "metadata": {
      "needs_background": "light"
     },
     "output_type": "display_data"
    }
   ],
   "source": [
    "plt.plot(trial_no, cost_arr, label='loss',color='r')\n",
    "plt.plot(trial_no, Train_Accu_arr,color='b', label='Training Accuracy')\n",
    "plt.plot(trial_no, Test_Accu_arr,color='g', label='Test Accuracy')\n",
    "plt.legend()\n",
    "plt.savefig('image2.jpg')"
   ]
  },
  {
   "cell_type": "markdown",
   "metadata": {},
   "source": [
    "Results\n",
    "~~~~~~~\n",
    "\n"
   ]
  },
  {
   "cell_type": "code",
   "execution_count": null,
   "metadata": {},
   "outputs": [],
   "source": [
    "#print(\"Cost: {:3f} | Train accuracy {:3f} | Test Accuracy : {:3f}\".format(\n",
    " #       loss, accuracy_train, accuracy_test))\n",
    "\n",
    "print(\"Learned weights\")\n",
    "for i in range(num_layers):\n",
    "    print(\"Layer {}: {}\".format(i, params[i]))\n",
    "\n",
    "\n"
   ]
  },
  {
   "cell_type": "markdown",
   "metadata": {},
   "source": [
    "References\n",
    "----------\n",
    "[1] Pérez-Salinas, Adrián, et al. “Data re-uploading for a universal\n",
    "quantum classifier.” arXiv preprint arXiv:1907.02085 (2019).\n",
    "\n",
    "[2] Kingma, Diederik P., and Ba, J. \"Adam: A method for stochastic\n",
    "optimization.\" arXiv preprint arXiv:1412.6980 (2014).\n",
    "\n",
    "[3] Liu, Dong C., and Nocedal, J. \"On the limited memory BFGS\n",
    "method for large scale optimization.\" Mathematical programming\n",
    "45.1-3 (1989): 503-528.\n",
    "\n"
   ]
  }
 ],
 "metadata": {
  "kernelspec": {
   "display_name": "Python 3",
   "language": "python",
   "name": "python3"
  },
  "language_info": {
   "codemirror_mode": {
    "name": "ipython",
    "version": 3
   },
   "file_extension": ".py",
   "mimetype": "text/x-python",
   "name": "python",
   "nbconvert_exporter": "python",
   "pygments_lexer": "ipython3",
   "version": "3.7.3"
  }
 },
 "nbformat": 4,
 "nbformat_minor": 1
}
