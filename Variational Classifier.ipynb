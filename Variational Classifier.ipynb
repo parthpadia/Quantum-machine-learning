{
 "cells": [
  {
   "cell_type": "code",
   "execution_count": 1,
   "metadata": {},
   "outputs": [],
   "source": [
    "import pennylane as qml\n",
    "from pennylane import numpy as np\n",
    "from pennylane.optimize import NesterovMomentumOptimizer\n",
    "import random\n",
    "from sklearn.preprocessing import MinMaxScaler\n",
    "from sklearn.model_selection import train_test_split\n",
    "\n",
    "scaler = MinMaxScaler()"
   ]
  },
  {
   "cell_type": "code",
   "execution_count": 2,
   "metadata": {},
   "outputs": [],
   "source": [
    "dev = qml.device(\"default.qubit\", wires=2)"
   ]
  },
  {
   "cell_type": "code",
   "execution_count": 3,
   "metadata": {},
   "outputs": [],
   "source": [
    "def get_angles(x):\n",
    "\n",
    "    beta0 = 2 * np.arcsin(np.sqrt(x[1]) ** 2 / np.sqrt(x[0] ** 2 + x[1] ** 2 + 1e-12))\n",
    "    beta1 = 2 * np.arcsin(np.sqrt(x[3]) ** 2 / np.sqrt(x[2] ** 2 + x[3] ** 2 + 1e-12))\n",
    "    beta2 = 2 * np.arcsin(np.sqrt(x[2] ** 2 + x[3] ** 2) / np.sqrt(x[0] ** 2 + x[1] ** 2 + x[2] ** 2 + x[3] ** 2))\n",
    "\n",
    "    return np.array([beta2, -beta1 / 2, beta1 / 2, -beta0 / 2, beta0 / 2])"
   ]
  },
  {
   "cell_type": "code",
   "execution_count": 4,
   "metadata": {},
   "outputs": [],
   "source": [
    "def statepreparation(a):\n",
    "    qml.RY(a[0], wires=0)\n",
    "\n",
    "    qml.CNOT(wires=[0, 1])\n",
    "    qml.RY(a[1], wires=1)\n",
    "    qml.CNOT(wires=[0, 1])\n",
    "    qml.RY(a[2], wires=1)\n",
    "\n",
    "    qml.PauliX(wires=0)\n",
    "    qml.CNOT(wires=[0, 1])\n",
    "    qml.RY(a[3], wires=1)\n",
    "    qml.CNOT(wires=[0, 1])\n",
    "    qml.RY(a[4], wires=1)\n",
    "    qml.PauliX(wires=0)"
   ]
  },
  {
   "cell_type": "code",
   "execution_count": 5,
   "metadata": {},
   "outputs": [],
   "source": [
    "def square_loss(labels, predictions):\n",
    "    loss = 0\n",
    "    for l, p in zip(labels, predictions):\n",
    "        loss = loss + (l - p) ** 2\n",
    "\n",
    "    loss = loss / len(labels)\n",
    "    return loss"
   ]
  },
  {
   "cell_type": "code",
   "execution_count": 6,
   "metadata": {},
   "outputs": [],
   "source": [
    "def accuracy(labels, predictions):\n",
    "\n",
    "    loss = 0\n",
    "    for l, p in zip(labels, predictions):\n",
    "        if abs(l - p) < 1e-5:\n",
    "            loss = loss + 1\n",
    "    loss = loss / len(labels)\n",
    "\n",
    "    return loss"
   ]
  },
  {
   "cell_type": "code",
   "execution_count": 7,
   "metadata": {},
   "outputs": [
    {
     "name": "stdout",
     "output_type": "stream",
     "text": [
      "[ 0.56397465 -0.          0.         -0.97504604  0.97504604]\n",
      "x               :  [0.53896774 0.79503606 0.27826503 0.        ]\n",
      "angles          :  [ 0.56397465 -0.          0.         -0.97504604  0.97504604]\n",
      "amplitude vector:  [ 5.38967743e-01  7.95036065e-01  2.78265032e-01 -1.38777878e-17]\n"
     ]
    }
   ],
   "source": [
    "x = np.array([0.53896774, 0.79503606, 0.27826503, 0.0])\n",
    "ang = get_angles(x)\n",
    "print(ang)\n",
    "\n",
    "@qml.qnode(dev)\n",
    "def test(angles=None):\n",
    "\n",
    "    statepreparation(angles)\n",
    "\n",
    "    return qml.expval(qml.PauliZ(0))\n",
    "\n",
    "\n",
    "test(angles=ang)\n",
    "\n",
    "print(\"x               : \", x)\n",
    "print(\"angles          : \", ang)\n",
    "print(\"amplitude vector: \", np.real(dev._state))"
   ]
  },
  {
   "cell_type": "code",
   "execution_count": 8,
   "metadata": {},
   "outputs": [],
   "source": [
    "def layer(W):\n",
    "    qml.Rot(W[0, 0], W[0, 1], W[0, 2], wires=0)\n",
    "    qml.Rot(W[1, 0], W[1, 1], W[1, 2], wires=1)\n",
    "    qml.CNOT(wires=[0, 1])"
   ]
  },
  {
   "cell_type": "code",
   "execution_count": 9,
   "metadata": {},
   "outputs": [],
   "source": [
    "@qml.qnode(dev)\n",
    "def circuit(weights, angles=None):\n",
    "    statepreparation(angles)\n",
    "\n",
    "    for W in weights:\n",
    "        layer(W)\n",
    "\n",
    "    return qml.expval(qml.PauliZ(0))\n",
    "\n",
    "\n",
    "def variational_classifier(var, angles=None):\n",
    "    weights = var[0]\n",
    "    bias = var[1]\n",
    "    return circuit(weights, angles=angles) + bias\n",
    "\n",
    "\n",
    "def cost(weights, features, labels):\n",
    "    predictions = [variational_classifier(weights, angles=f) for f in features]\n",
    "    return square_loss(labels, predictions)"
   ]
  },
  {
   "cell_type": "code",
   "execution_count": 10,
   "metadata": {},
   "outputs": [],
   "source": [
    "X_tra = []\n",
    "Y_ans = []\n",
    "with open('data_banknote_authentication.txt', 'r') as f:\n",
    "    x = f.readlines()\n",
    "random.shuffle(x)\n",
    "for i in range(len(x)):\n",
    "    x[i] = x[i][:-1]\n",
    "    x[i] = x[i].split(',')\n",
    "    X_tra.append(x[i][:-1])\n",
    "    Y_ans.append(x[i][-1:])\n",
    "x\n",
    "ans = []\n",
    "for i in range(len(Y_ans)):\n",
    "    if(Y_ans[i]==min(Y_ans)):\n",
    "        Y_ans[i]=['0']\n",
    "    ans.append(Y_ans[i][0])\n",
    "for i in range(len(X_tra)):\n",
    "    ans[i]=int(ans[i])\n",
    "    for j in range(len(X_tra[i])):\n",
    "        X_tra[i][j]=float(X_tra[i][j])"
   ]
  },
  {
   "cell_type": "code",
   "execution_count": 15,
   "metadata": {},
   "outputs": [
    {
     "name": "stdout",
     "output_type": "stream",
     "text": [
      "MinMaxScaler(copy=True, feature_range=(0, 1))\n"
     ]
    }
   ],
   "source": [
    "print(scaler.fit(X_tra))"
   ]
  },
  {
   "cell_type": "code",
   "execution_count": 16,
   "metadata": {},
   "outputs": [],
   "source": [
    "X_tra = scaler.transform(X_tra)\n",
    "#X_tra"
   ]
  },
  {
   "cell_type": "code",
   "execution_count": 17,
   "metadata": {},
   "outputs": [
    {
     "data": {
      "text/plain": [
       "array([[ 1.86020929, -1.1687676 ,  1.1687676 , -0.962637  ,  0.962637  ],\n",
       "       [ 1.00534856, -1.37791872,  1.37791872, -0.77795601,  0.77795601],\n",
       "       [ 1.3411122 , -1.35038655,  1.35038655, -1.02891548,  1.02891548],\n",
       "       ...,\n",
       "       [ 1.11722747, -1.42178944,  1.42178944, -0.91724243,  0.91724243],\n",
       "       [ 1.0965786 , -1.20837942,  1.20837942, -0.93721681,  0.93721681],\n",
       "       [ 0.62799823, -1.49470424,  1.49470424, -0.81028782,  0.81028782]])"
      ]
     },
     "execution_count": 17,
     "metadata": {},
     "output_type": "execute_result"
    }
   ],
   "source": [
    "features = np.array([get_angles(x) for x in X_tra])\n",
    "features"
   ]
  },
  {
   "cell_type": "code",
   "execution_count": 18,
   "metadata": {},
   "outputs": [
    {
     "data": {
      "text/plain": [
       "array([1, 0, 1, ..., 1, 0, 0])"
      ]
     },
     "execution_count": 18,
     "metadata": {},
     "output_type": "execute_result"
    }
   ],
   "source": [
    "Y=np.array(ans)\n",
    "Y"
   ]
  },
  {
   "cell_type": "code",
   "execution_count": 19,
   "metadata": {},
   "outputs": [
    {
     "name": "stdout",
     "output_type": "stream",
     "text": [
      "[ 506   56 1025 ... 1348  950  996]\n"
     ]
    }
   ],
   "source": [
    "#np.random.seed(42)\n",
    "num_data = len(Y)\n",
    "num_train = int(0.50 * num_data)\n",
    "index = np.random.permutation(range(num_data))\n",
    "print(index)\n",
    "feats_train = features[index[:num_train]]\n",
    "Y_train = Y[index[:num_train]]\n",
    "feats_val = features[index[num_train:]]\n",
    "Y_val = Y[index[num_train:]]\n",
    "\n",
    "# We need these later for plotting\n",
    "#X_train = X[index[:num_train]]\n",
    "#X_val = X[index[num_train:]]"
   ]
  },
  {
   "cell_type": "code",
   "execution_count": null,
   "metadata": {},
   "outputs": [
    {
     "name": "stdout",
     "output_type": "stream",
     "text": [
      "Iter:     1 | Cost: 0.7471448 | Acc train: 0.1953353 | Acc validation: 0.1618076 \n",
      "Iter:     2 | Cost: 0.7184223 | Acc train: 0.2186589 | Acc validation: 0.1851312 \n",
      "Iter:     3 | Cost: 0.6901069 | Acc train: 0.2376093 | Acc validation: 0.2055394 \n",
      "Iter:     4 | Cost: 0.6635402 | Acc train: 0.2492711 | Acc validation: 0.2215743 \n",
      "Iter:     5 | Cost: 0.6192659 | Acc train: 0.2857143 | Acc validation: 0.2696793 \n",
      "Iter:     6 | Cost: 0.5965948 | Acc train: 0.3309038 | Acc validation: 0.2973761 \n",
      "Iter:     7 | Cost: 0.5841229 | Acc train: 0.3586006 | Acc validation: 0.3294461 \n",
      "Iter:     8 | Cost: 0.5767584 | Acc train: 0.3833819 | Acc validation: 0.3600583 \n",
      "Iter:     9 | Cost: 0.5707850 | Acc train: 0.4067055 | Acc validation: 0.3848397 \n",
      "Iter:    10 | Cost: 0.5652284 | Acc train: 0.4300292 | Acc validation: 0.3950437 \n",
      "Iter:    11 | Cost: 0.5603645 | Acc train: 0.4387755 | Acc validation: 0.4096210 \n",
      "Iter:    12 | Cost: 0.5448996 | Acc train: 0.4431487 | Acc validation: 0.4183673 \n",
      "Iter:    13 | Cost: 0.5221526 | Acc train: 0.4533528 | Acc validation: 0.4285714 \n",
      "Iter:    14 | Cost: 0.4911778 | Acc train: 0.4548105 | Acc validation: 0.4329446 \n",
      "Iter:    15 | Cost: 0.4433690 | Acc train: 0.4548105 | Acc validation: 0.4329446 \n",
      "Iter:    16 | Cost: 0.3887915 | Acc train: 0.4548105 | Acc validation: 0.4329446 \n",
      "Iter:    17 | Cost: 0.3329241 | Acc train: 0.4548105 | Acc validation: 0.4329446 \n",
      "Iter:    18 | Cost: 0.2906598 | Acc train: 0.4548105 | Acc validation: 0.4329446 \n",
      "Iter:    19 | Cost: 0.2680161 | Acc train: 0.4504373 | Acc validation: 0.4271137 \n",
      "Iter:    20 | Cost: 0.2552111 | Acc train: 0.4475219 | Acc validation: 0.4256560 \n",
      "Iter:    21 | Cost: 0.2478961 | Acc train: 0.4402332 | Acc validation: 0.4125364 \n"
     ]
    }
   ],
   "source": [
    "num_qubits = 2\n",
    "num_layers = 6\n",
    "var_init = (0.01 * np.random.randn(num_layers, num_qubits, 3), 0.0)\n",
    "\n",
    "opt = NesterovMomentumOptimizer(0.01)\n",
    "batch_size = 5\n",
    "\n",
    "var = var_init\n",
    "for it in range(60):\n",
    "\n",
    "    # Update the weights by one optimizer step\n",
    "    batch_index = np.random.randint(0, num_train, (batch_size,))\n",
    "    feats_train_batch = feats_train[batch_index]\n",
    "    Y_train_batch = Y_train[batch_index]\n",
    "    var = opt.step(lambda v: cost(v, feats_train_batch, Y_train_batch), var)\n",
    "\n",
    "    # Compute predictions on train and validation set\n",
    "    predictions_train = [np.sign(variational_classifier(var, angles=f)) for f in feats_train]\n",
    "    predictions_val = [np.sign(variational_classifier(var, angles=f)) for f in feats_val]\n",
    "\n",
    "    # Compute accuracy on train and validation set\n",
    "    acc_train = accuracy(Y_train, predictions_train)\n",
    "    acc_val = accuracy(Y_val, predictions_val)\n",
    "\n",
    "    print(\n",
    "        \"Iter: {:5d} | Cost: {:0.7f} | Acc train: {:0.7f} | Acc validation: {:0.7f} \"\n",
    "        \"\".format(it + 1, cost(var, features, Y), acc_train, acc_val)\n",
    "    )"
   ]
  },
  {
   "cell_type": "code",
   "execution_count": null,
   "metadata": {},
   "outputs": [],
   "source": []
  }
 ],
 "metadata": {
  "kernelspec": {
   "display_name": "Python 3",
   "language": "python",
   "name": "python3"
  },
  "language_info": {
   "codemirror_mode": {
    "name": "ipython",
    "version": 3
   },
   "file_extension": ".py",
   "mimetype": "text/x-python",
   "name": "python",
   "nbconvert_exporter": "python",
   "pygments_lexer": "ipython3",
   "version": "3.7.3"
  }
 },
 "nbformat": 4,
 "nbformat_minor": 2
}
